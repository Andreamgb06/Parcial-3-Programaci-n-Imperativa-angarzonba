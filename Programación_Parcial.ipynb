{
  "nbformat": 4,
  "nbformat_minor": 0,
  "metadata": {
    "colab": {
      "provenance": []
    },
    "kernelspec": {
      "name": "python3",
      "display_name": "Python 3"
    },
    "language_info": {
      "name": "python"
    }
  },
  "cells": [
    {
      "cell_type": "code",
      "source": [
        "estudiantes = []\n",
        "\n",
        "def agregar_estudiante():\n",
        "    nombre = input(\"Ingrese el nombre del estudiante: \")\n",
        "    try:\n",
        "        calificacion = float(input(\"Ingrese la calificación: \"))\n",
        "        if 0 <= calificacion <= 50:\n",
        "            estudiantes.append({\"nombre\": nombre, \"calificacion\": calificacion})\n",
        "            print(f\"Estudiante {nombre} agregado con éxito.\\n\")\n",
        "        else:\n",
        "            print(\"Error: La calificación debe ser entre 0 y 50.\\n\")\n",
        "    except ValueError:\n",
        "        print(\"Error: Ingresar un número válido.\\n\")\n",
        "\n",
        "def mostrar_estudiantes():\n",
        "    if not estudiantes:\n",
        "        print(\"No hay estudiantes registrados.\\n\")\n",
        "    else:\n",
        "        print(\"\\nLista de Estudiantes:\")\n",
        "        for i, estudiante in enumerate(estudiantes, start=1):\n",
        "            print(f\"{i}. {estudiante['nombre']} - Calificación: {estudiante['calificacion']}\")\n",
        "        print()\n",
        "\n",
        "def calcular_promedio():\n",
        "    if not estudiantes:\n",
        "        print(\"No hay estudiantes registrados para calcular promedio.\\n\")\n",
        "    else:\n",
        "        suma_calificaciones = sum(e[\"calificacion\"] for e in estudiantes)\n",
        "        promedio = suma_calificaciones / len(estudiantes)\n",
        "        print(f\"\\nEl promedio de calificaciones es: {promedio:.2f}\\n\")\n",
        "\n",
        "def menu():\n",
        "    while True:\n",
        "        print(\"\\nSistema de Gestión de Estudiantes\")\n",
        "        print(\"1. Agregar Estudiante\")\n",
        "        print(\"2. Mostrar Estudiantes\")\n",
        "        print(\"3. Calcular Promedio\")\n",
        "        print(\"4. Salir\")\n",
        "\n",
        "        opcion = input(\"Seleccione una opción: \")\n",
        "\n",
        "        if opcion == \"1\":\n",
        "            agregar_estudiante()\n",
        "        elif opcion == \"2\":\n",
        "            mostrar_estudiantes()\n",
        "        elif opcion == \"3\":\n",
        "            calcular_promedio()\n",
        "        elif opcion == \"4\":\n",
        "            print(\"Saliendo del programa...\")\n",
        "            break\n",
        "        else:\n",
        "            print(\"Opción inválida. Intente de nuevo.\\n\")\n",
        "\n",
        "menu()\n"
      ],
      "metadata": {
        "colab": {
          "base_uri": "https://localhost:8080/"
        },
        "id": "15LsBbACQiTZ",
        "outputId": "2c0e485f-e4db-4d0b-e2a6-697a6792e81e"
      },
      "execution_count": null,
      "outputs": [
        {
          "output_type": "stream",
          "name": "stdout",
          "text": [
            "\n",
            "Sistema de Gestión de Estudiantes\n",
            "1. Agregar Estudiante\n",
            "2. Mostrar Estudiantes\n",
            "3. Calcular Promedio\n",
            "4. Salir\n"
          ]
        }
      ]
    }
  ]
}